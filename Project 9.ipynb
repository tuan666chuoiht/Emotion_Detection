{
 "cells": [
  {
   "cell_type": "code",
   "execution_count": 1,
   "id": "81b264bd-1440-491a-b540-5c3375911a9e",
   "metadata": {},
   "outputs": [],
   "source": [
    "import os\n",
    "import pandas as pd \n",
    "import random\n",
    "\n",
    "from tensorflow.keras.preprocessing.image import ImageDataGenerator, load_img \n",
    "\n",
    "import matplotlib.pyplot as plt\n",
    "\n",
    "from sklearn.model_selection import train_test_split"
   ]
  },
  {
   "cell_type": "code",
   "execution_count": 2,
   "id": "95f69ddf-3523-49f5-b116-53786f94cdc1",
   "metadata": {},
   "outputs": [],
   "source": [
    "train_path = \"./train\"\n",
    "test_path =  \"./test\""
   ]
  },
  {
   "cell_type": "markdown",
   "id": "f7775d16-22b5-4f71-92ca-f456bd9b5a01",
   "metadata": {},
   "source": [
    "## Prepare Train Data"
   ]
  },
  {
   "cell_type": "code",
   "execution_count": 3,
   "id": "0bd8f084-01d9-4be9-b912-3c9ed0447ab3",
   "metadata": {},
   "outputs": [],
   "source": [
    "emotion_list = os.listdir(train_path)\n",
    "categories = []\n",
    "name_of_image = []\n",
    "for emotion in emotion_list:\n",
    "    filenames = os.listdir(train_path+ '/' + emotion)\n",
    "    for filename in filenames:\n",
    "        name_of_image.append(filename)\n",
    "        categories.append(emotion)"
   ]
  },
  {
   "cell_type": "code",
   "execution_count": 4,
   "id": "d706da16-90fe-4b98-a674-9a4babd730ec",
   "metadata": {},
   "outputs": [],
   "source": [
    "df = pd.DataFrame({\n",
    "    'Filename' : name_of_image,\n",
    "    'Category' : categories\n",
    "})"
   ]
  },
  {
   "cell_type": "code",
   "execution_count": 5,
   "id": "355b3741-ba22-4f44-a443-7dddedaf5a89",
   "metadata": {},
   "outputs": [
    {
     "data": {
      "text/plain": [
       "['angry', 'disgust', 'fear', 'happy', 'neutral', 'sad', 'surprise']"
      ]
     },
     "execution_count": 5,
     "metadata": {},
     "output_type": "execute_result"
    }
   ],
   "source": [
    "class_name = emotion_list\n",
    "class_name"
   ]
  },
  {
   "cell_type": "code",
   "execution_count": 6,
   "id": "bc1e27a2-24eb-4736-84f8-e8e135e3d5b3",
   "metadata": {},
   "outputs": [],
   "source": [
    "df['Category'] = df['Category'].replace({'angry': 0, 'disgust': 1, 'fear' : 2, 'happy' : 3, 'neutral' : 4, 'sad' : 5, 'surprise' : 6})"
   ]
  },
  {
   "cell_type": "code",
   "execution_count": 7,
   "id": "a51e7a5c-e556-4467-93aa-6b8c970e5197",
   "metadata": {},
   "outputs": [],
   "source": [
    "df = df.sample(frac=1).reset_index(drop=True)"
   ]
  },
  {
   "cell_type": "code",
   "execution_count": 8,
   "id": "6b1964cc-45b4-4824-ae81-0e457e8117ce",
   "metadata": {},
   "outputs": [
    {
     "data": {
      "text/html": [
       "<div>\n",
       "<style scoped>\n",
       "    .dataframe tbody tr th:only-of-type {\n",
       "        vertical-align: middle;\n",
       "    }\n",
       "\n",
       "    .dataframe tbody tr th {\n",
       "        vertical-align: top;\n",
       "    }\n",
       "\n",
       "    .dataframe thead th {\n",
       "        text-align: right;\n",
       "    }\n",
       "</style>\n",
       "<table border=\"1\" class=\"dataframe\">\n",
       "  <thead>\n",
       "    <tr style=\"text-align: right;\">\n",
       "      <th></th>\n",
       "      <th>Filename</th>\n",
       "      <th>Category</th>\n",
       "    </tr>\n",
       "  </thead>\n",
       "  <tbody>\n",
       "    <tr>\n",
       "      <th>0</th>\n",
       "      <td>Training_10595751.jpg</td>\n",
       "      <td>0</td>\n",
       "    </tr>\n",
       "    <tr>\n",
       "      <th>1</th>\n",
       "      <td>Training_97004687.jpg</td>\n",
       "      <td>3</td>\n",
       "    </tr>\n",
       "    <tr>\n",
       "      <th>2</th>\n",
       "      <td>Training_38300126.jpg</td>\n",
       "      <td>6</td>\n",
       "    </tr>\n",
       "    <tr>\n",
       "      <th>3</th>\n",
       "      <td>Training_24511742.jpg</td>\n",
       "      <td>0</td>\n",
       "    </tr>\n",
       "    <tr>\n",
       "      <th>4</th>\n",
       "      <td>Training_65838035.jpg</td>\n",
       "      <td>6</td>\n",
       "    </tr>\n",
       "  </tbody>\n",
       "</table>\n",
       "</div>"
      ],
      "text/plain": [
       "                Filename  Category\n",
       "0  Training_10595751.jpg         0\n",
       "1  Training_97004687.jpg         3\n",
       "2  Training_38300126.jpg         6\n",
       "3  Training_24511742.jpg         0\n",
       "4  Training_65838035.jpg         6"
      ]
     },
     "execution_count": 8,
     "metadata": {},
     "output_type": "execute_result"
    }
   ],
   "source": [
    "df.head()"
   ]
  },
  {
   "cell_type": "code",
   "execution_count": 9,
   "id": "e4b9569f-d76a-42b5-aa1e-e9d4aa674b58",
   "metadata": {},
   "outputs": [
    {
     "data": {
      "text/plain": [
       "<Axes: >"
      ]
     },
     "execution_count": 9,
     "metadata": {},
     "output_type": "execute_result"
    },
    {
     "data": {
      "image/png": "[encoded data removed]",
      "text/plain": [
       "<Figure size 640x480 with 1 Axes>"
      ]
     },
     "metadata": {},
     "output_type": "display_data"
    }
   ],
   "source": [
    "df['Category'].value_counts().plot.bar()"
   ]
  },
  {
   "cell_type": "code",
   "execution_count": 13,
   "id": "53ee5d11-04bd-4a6e-87cb-1a4a32b03c08",
   "metadata": {},
   "outputs": [
    {
     "name": "stdout",
     "output_type": "stream",
     "text": [
      "surprise\n"
     ]
    },
    {
     "data": {
      "text/plain": [
       "<matplotlib.image.AxesImage at 0x2672a6d1070>"
      ]
     },
     "execution_count": 13,
     "metadata": {},
     "output_type": "execute_result"
    },
    {
     "data": {
      "image/png": "[encoded data removed]",
      "text/plain": [
       "<Figure size 640x480 with 1 Axes>"
      ]
     },
     "metadata": {},
     "output_type": "display_data"
    }
   ],
   "source": [
    "random_number = random.randint(0,df.shape[0])\n",
    "image = load_img(train_path + '/' + class_name[df.iloc[random_number][1]] + '/' + df.iloc[random_number][0])\n",
    "print(class_name[df.iloc[random_number][1]])\n",
    "plt.imshow(image)"
   ]
  },
  {
   "cell_type": "code",
   "execution_count": 14,
   "id": "ab1686b4-114f-4ab9-8637-910cd77f24a5",
   "metadata": {},
   "outputs": [],
   "source": [
    "train_df, validate_df = train_test_split(df, test_size=0.2, random_state=32)\n",
    "train_df = train_df.reset_index(drop=True)\n",
    "validate_df = validate_df.reset_index(drop=True)"
   ]
  },
  {
   "cell_type": "markdown",
   "id": "7a270622-438c-48b0-aa91-28e20787a30c",
   "metadata": {},
   "source": [
    "## Train Data Generation"
   ]
  },
  {
   "cell_type": "code",
   "execution_count": 15,
   "id": "aa217937-253e-44a4-9c76-95b2ee706b1b",
   "metadata": {},
   "outputs": [],
   "source": [
    "train_generation = ImageDataGenerator(\n",
    "    width_shift_range= 0.1,\n",
    "    height_shift_range= 0.1,\n",
    "    horizontal_flip = True,\n",
    "    rescale= 1/255,\n",
    "    validation_split = 0.2\n",
    ")\n",
    "\n",
    "validation_generation = ImageDataGenerator(\n",
    "    rescale = 1/255,\n",
    "    validation_split = 0.2\n",
    ")"
   ]
  },
  {
   "cell_type": "code",
   "execution_count": 17,
   "id": "91723476-ba6d-45e0-9f65-dc7275736865",
   "metadata": {},
   "outputs": [
    {
     "name": "stdout",
     "output_type": "stream",
     "text": [
      "Found 22968 images belonging to 7 classes.\n",
      "Found 1432 images belonging to 7 classes.\n"
     ]
    }
   ],
   "source": [
    "train_generator = train_generation.flow_from_directory(\n",
    "    directory = train_path,\n",
    "    target_size = (48, 48),        \n",
    "    batch_size = 64,           \n",
    "    color_mode = \"grayscale\",  \n",
    "    class_mode = \"categorical\",   \n",
    "    subset = \"training\",\n",
    "    classes = class_name\n",
    ")\n",
    "validation_generator = validation_generation.flow_from_directory(\n",
    "    directory = test_path,\n",
    "    target_size = (48, 48),        \n",
    "    batch_size = 64,        \n",
    "    color_mode = \"grayscale\",        \n",
    "    class_mode = \"categorical\",      \n",
    "    subset = \"validation\",\n",
    "    classes = class_name\n",
    ")"
   ]
  },
  {
   "cell_type": "code",
   "execution_count": 18,
   "id": "155cc215-d3b0-4f7f-8651-b80b197cc926",
   "metadata": {},
   "outputs": [],
   "source": [
    "from tensorflow.keras.layers import Dense, Dropout, Flatten, BatchNormalization\n",
    "from tensorflow.keras.layers import Conv2D, MaxPooling2D\n",
    "from tensorflow.keras.models import Sequential\n",
    "import tensorflow as tf \n",
    "\n",
    "model = Sequential()\n",
    "\n",
    "model.add(Conv2D(32, kernel_size=(3, 3), activation='relu', input_shape=(48,48,1)))\n",
    "model.add(BatchNormalization())\n",
    "model.add(Conv2D(64, kernel_size=(3, 3), activation='relu'))\n",
    "\n",
    "model.add(BatchNormalization())\n",
    "model.add(MaxPooling2D(pool_size=(2, 2)))\n",
    "\n",
    "model.add(Dropout(0.25))\n",
    "\n",
    "model.add(Conv2D(128, kernel_size=(3, 3), activation='relu'))\n",
    "model.add(BatchNormalization())\n",
    "model.add(Conv2D(128, kernel_size=(3, 3), activation='relu'))\n",
    "model.add(BatchNormalization())\n",
    "model.add(MaxPooling2D(pool_size=(2, 2)))\n",
    "model.add(Dropout(0.25))\n",
    "\n",
    "model.add(Conv2D(256, kernel_size=(3, 3), activation='relu'))\n",
    "model.add(BatchNormalization())\n",
    "model.add(Conv2D(256, kernel_size=(3, 3), activation='relu'))\n",
    "model.add(BatchNormalization())\n",
    "model.add(MaxPooling2D(pool_size=(2, 2)))\n",
    "model.add(Dropout(0.25))\n",
    "\n",
    "model.add(Flatten())\n",
    "model.add(Dense(256, activation='relu'))\n",
    "model.add(BatchNormalization())\n",
    "model.add(Dropout(0.5))\n",
    "model.add(Dense(len(class_name), activation='softmax'))\n",
    "\n",
    "model.compile(loss=\"categorical_crossentropy\", optimizer= tf.keras.optimizers.Adam(learning_rate=0.0001), metrics=['accuracy'])"
   ]
  },
  {
   "cell_type": "code",
   "execution_count": 19,
   "id": "ca6e6634-b377-4e47-b8e6-4e9e15039bef",
   "metadata": {},
   "outputs": [
    {
     "name": "stdout",
     "output_type": "stream",
     "text": [
      "Epoch 1/50\n",
      "359/359 [==============================] - ETA: 0s - loss: 2.7559 - accuracy: 0.1882\n",
      "Epoch 1: val_accuracy improved from -inf to 0.15782, saving model to model_weights.h5\n",
      "359/359 [==============================] - 161s 425ms/step - loss: 2.7559 - accuracy: 0.1882 - val_loss: 2.0092 - val_accuracy: 0.1578\n",
      "Epoch 2/50\n",
      "359/359 [==============================] - ETA: 0s - loss: 2.3529 - accuracy: 0.2370\n",
      "Epoch 2: val_accuracy improved from 0.15782 to 0.34218, saving model to model_weights.h5\n",
      "359/359 [==============================] - 22s 61ms/step - loss: 2.3529 - accuracy: 0.2370 - val_loss: 1.7341 - val_accuracy: 0.3422\n",
      "Epoch 3/50\n",
      "359/359 [==============================] - ETA: 0s - loss: 2.1708 - accuracy: 0.2712\n",
      "Epoch 3: val_accuracy improved from 0.34218 to 0.39735, saving model to model_weights.h5\n",
      "359/359 [==============================] - 22s 60ms/step - loss: 2.1708 - accuracy: 0.2712 - val_loss: 1.6062 - val_accuracy: 0.3973\n",
      "Epoch 4/50\n",
      "359/359 [==============================] - ETA: 0s - loss: 2.0253 - accuracy: 0.3061\n",
      "Epoch 4: val_accuracy improved from 0.39735 to 0.41061, saving model to model_weights.h5\n",
      "359/359 [==============================] - 23s 64ms/step - loss: 2.0253 - accuracy: 0.3061 - val_loss: 1.5539 - val_accuracy: 0.4106\n",
      "Epoch 5/50\n",
      "359/359 [==============================] - ETA: 0s - loss: 1.9349 - accuracy: 0.3208\n",
      "Epoch 5: val_accuracy did not improve from 0.41061\n",
      "359/359 [==============================] - 24s 67ms/step - loss: 1.9349 - accuracy: 0.3208 - val_loss: 1.5872 - val_accuracy: 0.4064\n",
      "Epoch 6/50\n",
      "359/359 [==============================] - ETA: 0s - loss: 1.8547 - accuracy: 0.3454\n",
      "Epoch 6: val_accuracy improved from 0.41061 to 0.43436, saving model to model_weights.h5\n",
      "359/359 [==============================] - 26s 72ms/step - loss: 1.8547 - accuracy: 0.3454 - val_loss: 1.4773 - val_accuracy: 0.4344\n",
      "Epoch 7/50\n",
      "359/359 [==============================] - ETA: 0s - loss: 1.7775 - accuracy: 0.3619\n",
      "Epoch 7: val_accuracy did not improve from 0.43436\n",
      "359/359 [==============================] - 27s 75ms/step - loss: 1.7775 - accuracy: 0.3619 - val_loss: 1.4832 - val_accuracy: 0.4330\n",
      "Epoch 8/50\n",
      "359/359 [==============================] - ETA: 0s - loss: 1.7018 - accuracy: 0.3805\n",
      "Epoch 8: val_accuracy improved from 0.43436 to 0.45182, saving model to model_weights.h5\n",
      "359/359 [==============================] - 23s 65ms/step - loss: 1.7018 - accuracy: 0.3805 - val_loss: 1.4935 - val_accuracy: 0.4518\n",
      "Epoch 9/50\n",
      "359/359 [==============================] - ETA: 0s - loss: 1.6540 - accuracy: 0.3956\n",
      "Epoch 9: val_accuracy improved from 0.45182 to 0.47835, saving model to model_weights.h5\n",
      "359/359 [==============================] - 27s 76ms/step - loss: 1.6540 - accuracy: 0.3956 - val_loss: 1.3987 - val_accuracy: 0.4784\n",
      "Epoch 10/50\n",
      "359/359 [==============================] - ETA: 0s - loss: 1.5984 - accuracy: 0.4122\n",
      "Epoch 10: val_accuracy improved from 0.47835 to 0.50000, saving model to model_weights.h5\n",
      "359/359 [==============================] - 28s 78ms/step - loss: 1.5984 - accuracy: 0.4122 - val_loss: 1.3091 - val_accuracy: 0.5000\n",
      "Epoch 11/50\n",
      "359/359 [==============================] - ETA: 0s - loss: 1.5440 - accuracy: 0.4285\n",
      "Epoch 11: val_accuracy improved from 0.50000 to 0.51117, saving model to model_weights.h5\n",
      "359/359 [==============================] - 30s 85ms/step - loss: 1.5440 - accuracy: 0.4285 - val_loss: 1.3137 - val_accuracy: 0.5112\n",
      "Epoch 12/50\n",
      "359/359 [==============================] - ETA: 0s - loss: 1.5060 - accuracy: 0.4409\n",
      "Epoch 12: val_accuracy did not improve from 0.51117\n",
      "359/359 [==============================] - 32s 90ms/step - loss: 1.5060 - accuracy: 0.4409 - val_loss: 1.2996 - val_accuracy: 0.5098\n",
      "Epoch 13/50\n",
      "359/359 [==============================] - ETA: 0s - loss: 1.4503 - accuracy: 0.4581\n",
      "Epoch 13: val_accuracy improved from 0.51117 to 0.54330, saving model to model_weights.h5\n",
      "359/359 [==============================] - 33s 92ms/step - loss: 1.4503 - accuracy: 0.4581 - val_loss: 1.2219 - val_accuracy: 0.5433\n",
      "Epoch 14/50\n",
      "359/359 [==============================] - ETA: 0s - loss: 1.4225 - accuracy: 0.4644\n",
      "Epoch 14: val_accuracy improved from 0.54330 to 0.55307, saving model to model_weights.h5\n",
      "359/359 [==============================] - 25s 69ms/step - loss: 1.4225 - accuracy: 0.4644 - val_loss: 1.2063 - val_accuracy: 0.5531\n",
      "Epoch 15/50\n",
      "359/359 [==============================] - ETA: 0s - loss: 1.3886 - accuracy: 0.4801\n",
      "Epoch 15: val_accuracy improved from 0.55307 to 0.56075, saving model to model_weights.h5\n",
      "359/359 [==============================] - 30s 84ms/step - loss: 1.3886 - accuracy: 0.4801 - val_loss: 1.1935 - val_accuracy: 0.5608\n",
      "Epoch 16/50\n",
      "359/359 [==============================] - ETA: 0s - loss: 1.3603 - accuracy: 0.4891\n",
      "Epoch 16: val_accuracy did not improve from 0.56075\n",
      "359/359 [==============================] - 36s 100ms/step - loss: 1.3603 - accuracy: 0.4891 - val_loss: 1.1852 - val_accuracy: 0.5580\n",
      "Epoch 17/50\n",
      "359/359 [==============================] - ETA: 0s - loss: 1.3283 - accuracy: 0.4998\n",
      "Epoch 17: val_accuracy improved from 0.56075 to 0.57123, saving model to model_weights.h5\n",
      "359/359 [==============================] - 31s 86ms/step - loss: 1.3283 - accuracy: 0.4998 - val_loss: 1.1574 - val_accuracy: 0.5712\n",
      "Epoch 18/50\n",
      "359/359 [==============================] - ETA: 0s - loss: 1.3053 - accuracy: 0.5077\n",
      "Epoch 18: val_accuracy improved from 0.57123 to 0.57193, saving model to model_weights.h5\n",
      "359/359 [==============================] - 40s 112ms/step - loss: 1.3053 - accuracy: 0.5077 - val_loss: 1.1447 - val_accuracy: 0.5719\n",
      "Epoch 19/50\n",
      "359/359 [==============================] - ETA: 0s - loss: 1.2883 - accuracy: 0.5115\n",
      "Epoch 19: val_accuracy did not improve from 0.57193\n",
      "359/359 [==============================] - 40s 111ms/step - loss: 1.2883 - accuracy: 0.5115 - val_loss: 1.1607 - val_accuracy: 0.5705\n",
      "Epoch 20/50\n",
      "359/359 [==============================] - ETA: 0s - loss: 1.2651 - accuracy: 0.5256\n",
      "Epoch 20: val_accuracy did not improve from 0.57193\n",
      "359/359 [==============================] - 34s 96ms/step - loss: 1.2651 - accuracy: 0.5256 - val_loss: 1.1213 - val_accuracy: 0.5712\n",
      "Epoch 21/50\n",
      "359/359 [==============================] - ETA: 0s - loss: 1.2491 - accuracy: 0.5286\n",
      "Epoch 21: val_accuracy improved from 0.57193 to 0.57612, saving model to model_weights.h5\n",
      "359/359 [==============================] - 46s 129ms/step - loss: 1.2491 - accuracy: 0.5286 - val_loss: 1.1473 - val_accuracy: 0.5761\n",
      "Epoch 22/50\n",
      "359/359 [==============================] - ETA: 0s - loss: 1.2268 - accuracy: 0.5339\n",
      "Epoch 22: val_accuracy improved from 0.57612 to 0.58589, saving model to model_weights.h5\n",
      "359/359 [==============================] - 32s 88ms/step - loss: 1.2268 - accuracy: 0.5339 - val_loss: 1.1120 - val_accuracy: 0.5859\n",
      "Epoch 23/50\n",
      "359/359 [==============================] - ETA: 0s - loss: 1.2137 - accuracy: 0.5406\n",
      "Epoch 23: val_accuracy improved from 0.58589 to 0.59916, saving model to model_weights.h5\n",
      "359/359 [==============================] - 43s 120ms/step - loss: 1.2137 - accuracy: 0.5406 - val_loss: 1.1007 - val_accuracy: 0.5992\n",
      "Epoch 24/50\n",
      "359/359 [==============================] - ETA: 0s - loss: 1.1926 - accuracy: 0.5515\n",
      "Epoch 24: val_accuracy did not improve from 0.59916\n",
      "359/359 [==============================] - 25s 70ms/step - loss: 1.1926 - accuracy: 0.5515 - val_loss: 1.1166 - val_accuracy: 0.5852\n",
      "Epoch 25/50\n",
      "359/359 [==============================] - ETA: 0s - loss: 1.1864 - accuracy: 0.5563\n",
      "Epoch 25: val_accuracy did not improve from 0.59916\n",
      "359/359 [==============================] - 30s 85ms/step - loss: 1.1864 - accuracy: 0.5563 - val_loss: 1.0984 - val_accuracy: 0.5859\n",
      "Epoch 26/50\n",
      "359/359 [==============================] - ETA: 0s - loss: 1.1709 - accuracy: 0.5598\n",
      "Epoch 26: val_accuracy did not improve from 0.59916\n",
      "359/359 [==============================] - 41s 113ms/step - loss: 1.1709 - accuracy: 0.5598 - val_loss: 1.0984 - val_accuracy: 0.5852\n",
      "Epoch 27/50\n",
      "359/359 [==============================] - ETA: 0s - loss: 1.1610 - accuracy: 0.5609\n",
      "Epoch 27: val_accuracy did not improve from 0.59916\n",
      "359/359 [==============================] - 34s 93ms/step - loss: 1.1610 - accuracy: 0.5609 - val_loss: 1.0739 - val_accuracy: 0.5866\n",
      "Epoch 28/50\n",
      "359/359 [==============================] - ETA: 0s - loss: 1.1560 - accuracy: 0.5660\n",
      "Epoch 28: val_accuracy improved from 0.59916 to 0.60545, saving model to model_weights.h5\n",
      "359/359 [==============================] - 24s 67ms/step - loss: 1.1560 - accuracy: 0.5660 - val_loss: 1.0484 - val_accuracy: 0.6054\n",
      "Epoch 29/50\n",
      "359/359 [==============================] - ETA: 0s - loss: 1.1430 - accuracy: 0.5706\n",
      "Epoch 29: val_accuracy did not improve from 0.60545\n",
      "359/359 [==============================] - 32s 88ms/step - loss: 1.1430 - accuracy: 0.5706 - val_loss: 1.0586 - val_accuracy: 0.6047\n",
      "Epoch 30/50\n",
      "359/359 [==============================] - ETA: 0s - loss: 1.1331 - accuracy: 0.5755\n",
      "Epoch 30: val_accuracy did not improve from 0.60545\n",
      "359/359 [==============================] - 22s 63ms/step - loss: 1.1331 - accuracy: 0.5755 - val_loss: 1.0400 - val_accuracy: 0.6027\n",
      "Epoch 31/50\n",
      "359/359 [==============================] - ETA: 0s - loss: 1.1213 - accuracy: 0.5809\n",
      "Epoch 31: val_accuracy did not improve from 0.60545\n",
      "359/359 [==============================] - 24s 66ms/step - loss: 1.1213 - accuracy: 0.5809 - val_loss: 1.0425 - val_accuracy: 0.6034\n",
      "Epoch 32/50\n",
      "359/359 [==============================] - ETA: 0s - loss: 1.1061 - accuracy: 0.5854\n",
      "Epoch 32: val_accuracy did not improve from 0.60545\n",
      "359/359 [==============================] - 29s 81ms/step - loss: 1.1061 - accuracy: 0.5854 - val_loss: 1.0714 - val_accuracy: 0.5978\n",
      "Epoch 33/50\n",
      "359/359 [==============================] - ETA: 0s - loss: 1.0985 - accuracy: 0.5869\n",
      "Epoch 33: val_accuracy did not improve from 0.60545\n",
      "359/359 [==============================] - 25s 69ms/step - loss: 1.0985 - accuracy: 0.5869 - val_loss: 1.0669 - val_accuracy: 0.5845\n",
      "Epoch 34/50\n",
      "359/359 [==============================] - ETA: 0s - loss: 1.0895 - accuracy: 0.5923\n",
      "Epoch 34: val_accuracy did not improve from 0.60545\n",
      "359/359 [==============================] - 29s 80ms/step - loss: 1.0895 - accuracy: 0.5923 - val_loss: 1.0466 - val_accuracy: 0.6047\n",
      "Epoch 35/50\n",
      "359/359 [==============================] - ETA: 0s - loss: 1.0775 - accuracy: 0.5961\n",
      "Epoch 35: val_accuracy improved from 0.60545 to 0.61034, saving model to model_weights.h5\n",
      "359/359 [==============================] - 25s 68ms/step - loss: 1.0775 - accuracy: 0.5961 - val_loss: 1.0260 - val_accuracy: 0.6103\n",
      "Epoch 36/50\n",
      "359/359 [==============================] - ETA: 0s - loss: 1.0740 - accuracy: 0.5964\n",
      "Epoch 36: val_accuracy improved from 0.61034 to 0.61103, saving model to model_weights.h5\n",
      "359/359 [==============================] - 24s 67ms/step - loss: 1.0740 - accuracy: 0.5964 - val_loss: 1.0105 - val_accuracy: 0.6110\n",
      "Epoch 37/50\n",
      "359/359 [==============================] - ETA: 0s - loss: 1.0625 - accuracy: 0.6037\n",
      "Epoch 37: val_accuracy improved from 0.61103 to 0.61313, saving model to model_weights.h5\n",
      "359/359 [==============================] - 31s 87ms/step - loss: 1.0625 - accuracy: 0.6037 - val_loss: 1.0218 - val_accuracy: 0.6131\n",
      "Epoch 38/50\n",
      "359/359 [==============================] - ETA: 0s - loss: 1.0511 - accuracy: 0.6069\n",
      "Epoch 38: val_accuracy improved from 0.61313 to 0.61732, saving model to model_weights.h5\n",
      "359/359 [==============================] - 24s 68ms/step - loss: 1.0511 - accuracy: 0.6069 - val_loss: 0.9972 - val_accuracy: 0.6173\n",
      "Epoch 39/50\n",
      "359/359 [==============================] - ETA: 0s - loss: 1.0460 - accuracy: 0.6093\n",
      "Epoch 39: val_accuracy did not improve from 0.61732\n",
      "359/359 [==============================] - 24s 66ms/step - loss: 1.0460 - accuracy: 0.6093 - val_loss: 1.0036 - val_accuracy: 0.6166\n",
      "Epoch 40/50\n",
      "359/359 [==============================] - ETA: 0s - loss: 1.0392 - accuracy: 0.6105\n",
      "Epoch 40: val_accuracy did not improve from 0.61732\n",
      "359/359 [==============================] - 23s 63ms/step - loss: 1.0392 - accuracy: 0.6105 - val_loss: 1.0018 - val_accuracy: 0.6110\n",
      "Epoch 41/50\n",
      "359/359 [==============================] - ETA: 0s - loss: 1.0328 - accuracy: 0.6137\n",
      "Epoch 41: val_accuracy did not improve from 0.61732\n",
      "359/359 [==============================] - 24s 67ms/step - loss: 1.0328 - accuracy: 0.6137 - val_loss: 1.0112 - val_accuracy: 0.6034\n",
      "Epoch 42/50\n",
      "359/359 [==============================] - ETA: 0s - loss: 1.0179 - accuracy: 0.6189\n",
      "Epoch 42: val_accuracy improved from 0.61732 to 0.63059, saving model to model_weights.h5\n",
      "359/359 [==============================] - 22s 61ms/step - loss: 1.0179 - accuracy: 0.6189 - val_loss: 0.9715 - val_accuracy: 0.6306\n",
      "Epoch 43/50\n",
      "359/359 [==============================] - ETA: 0s - loss: 1.0107 - accuracy: 0.6216\n",
      "Epoch 43: val_accuracy improved from 0.63059 to 0.63128, saving model to model_weights.h5\n",
      "359/359 [==============================] - 29s 81ms/step - loss: 1.0107 - accuracy: 0.6216 - val_loss: 0.9684 - val_accuracy: 0.6313\n",
      "Epoch 44/50\n",
      "359/359 [==============================] - ETA: 0s - loss: 1.0104 - accuracy: 0.6210\n",
      "Epoch 44: val_accuracy did not improve from 0.63128\n",
      "359/359 [==============================] - 23s 64ms/step - loss: 1.0104 - accuracy: 0.6210 - val_loss: 0.9709 - val_accuracy: 0.6285\n",
      "Epoch 45/50\n",
      "359/359 [==============================] - ETA: 0s - loss: 1.0032 - accuracy: 0.6231\n",
      "Epoch 45: val_accuracy improved from 0.63128 to 0.63547, saving model to model_weights.h5\n",
      "359/359 [==============================] - 31s 87ms/step - loss: 1.0032 - accuracy: 0.6231 - val_loss: 0.9795 - val_accuracy: 0.6355\n",
      "Epoch 46/50\n",
      "359/359 [==============================] - ETA: 0s - loss: 0.9865 - accuracy: 0.6314\n",
      "Epoch 46: val_accuracy did not improve from 0.63547\n",
      "359/359 [==============================] - 25s 68ms/step - loss: 0.9865 - accuracy: 0.6314 - val_loss: 0.9755 - val_accuracy: 0.6327\n",
      "Epoch 47/50\n",
      "359/359 [==============================] - ETA: 0s - loss: 0.9866 - accuracy: 0.6309\n",
      "Epoch 47: val_accuracy did not improve from 0.63547\n",
      "359/359 [==============================] - 22s 63ms/step - loss: 0.9866 - accuracy: 0.6309 - val_loss: 0.9801 - val_accuracy: 0.6264\n",
      "Epoch 48/50\n",
      "359/359 [==============================] - ETA: 0s - loss: 0.9790 - accuracy: 0.6331\n",
      "Epoch 48: val_accuracy did not improve from 0.63547\n",
      "359/359 [==============================] - 23s 63ms/step - loss: 0.9790 - accuracy: 0.6331 - val_loss: 0.9816 - val_accuracy: 0.6355\n",
      "Epoch 49/50\n",
      "359/359 [==============================] - ETA: 0s - loss: 0.9828 - accuracy: 0.6331\n",
      "Epoch 49: val_accuracy improved from 0.63547 to 0.64036, saving model to model_weights.h5\n",
      "359/359 [==============================] - 32s 89ms/step - loss: 0.9828 - accuracy: 0.6331 - val_loss: 0.9551 - val_accuracy: 0.6404\n",
      "Epoch 50/50\n",
      "359/359 [==============================] - ETA: 0s - loss: 0.9725 - accuracy: 0.6336\n",
      "Epoch 50: val_accuracy improved from 0.64036 to 0.64316, saving model to model_weights.h5\n",
      "359/359 [==============================] - 25s 68ms/step - loss: 0.9725 - accuracy: 0.6336 - val_loss: 0.9373 - val_accuracy: 0.6432\n"
     ]
    }
   ],
   "source": [
    "from tensorflow.keras.callbacks import ModelCheckpoint\n",
    "\n",
    "checkpoint_callback = ModelCheckpoint(\n",
    "    filepath='model_weights.h5',\n",
    "    monitor='val_accuracy',\n",
    "    save_best_only=True,\n",
    "    save_weights_only=True,\n",
    "    mode='max',\n",
    "    verbose=1\n",
    ")\n",
    "\n",
    "history = model.fit(\n",
    "    train_generator,\n",
    "    steps_per_epoch=len(train_generator),\n",
    "    epochs=50,\n",
    "    validation_data=validation_generator,\n",
    "    validation_steps=len(validation_generator),\n",
    "    callbacks=[checkpoint_callback]\n",
    ")"
   ]
  },
  {
   "cell_type": "code",
   "execution_count": 20,
   "id": "1230ac25-51f7-4d23-a566-3b11ad47e660",
   "metadata": {},
   "outputs": [],
   "source": [
    "model.save(\"model.h5\")"
   ]
  },
  {
   "cell_type": "code",
   "execution_count": null,
   "id": "a9266328-01a0-4eca-8b23-e69f6d942ee7",
   "metadata": {},
   "outputs": [],
   "source": []
  },
  {
   "cell_type": "code",
   "execution_count": null,
   "id": "3554ce7c-81ae-4da1-9306-66bf73226c7a",
   "metadata": {},
   "outputs": [],
   "source": []
  }
 ],
 "metadata": {
  "kernelspec": {
   "display_name": "Python 3 (ipykernel)",
   "language": "python",
   "name": "python3"
  },
  "language_info": {
   "codemirror_mode": {
    "name": "ipython",
    "version": 3
   },
   "file_extension": ".py",
   "mimetype": "text/x-python",
   "name": "python",
   "nbconvert_exporter": "python",
   "pygments_lexer": "ipython3",
   "version": "3.8.16"
  }
 },
 "nbformat": 4,
 "nbformat_minor": 5
}
